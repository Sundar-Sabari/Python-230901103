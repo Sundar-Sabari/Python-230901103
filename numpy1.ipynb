{
 "cells": [
  {
   "cell_type": "code",
   "execution_count": 3,
   "id": "4cbf3e13",
   "metadata": {},
   "outputs": [
    {
     "name": "stdout",
     "output_type": "stream",
     "text": [
      "[[1 2 3 4]\n",
      " [5 6 7 8]\n",
      " [1 2 0 1]]\n",
      "[[1 2 3]\n",
      " [4 5 6]\n",
      " [7 8 1]\n",
      " [2 0 1]]\n"
     ]
    }
   ],
   "source": [
    "import numpy as np\n",
    "array=np.array([[1,2,3,4],[5,6,7,8],[1,2,0,1]])\n",
    "newarray=array.reshape(4,3)\n",
    "print (array)\n",
    "print(newarray)"
   ]
  },
  {
   "cell_type": "code",
   "execution_count": 4,
   "id": "b0098c1a",
   "metadata": {},
   "outputs": [
    {
     "name": "stdout",
     "output_type": "stream",
     "text": [
      "[[1 2 3 4]\n",
      " [5 6 7 8]\n",
      " [1 2 0 1]]\n",
      "[1 2 3 4 5 6 7 8 1 2 0 1]\n"
     ]
    }
   ],
   "source": [
    "import numpy as np\n",
    "flat=array.flatten()\n",
    "print(array)\n",
    "print(flat)"
   ]
  },
  {
   "cell_type": "code",
   "execution_count": 6,
   "id": "22088314",
   "metadata": {},
   "outputs": [
    {
     "name": "stdout",
     "output_type": "stream",
     "text": [
      "array dimension: 2\n",
      "shape of array: (3, 4)\n",
      "type of element: int64\n",
      "Total no of elements: 12\n"
     ]
    }
   ],
   "source": [
    "print(\"array dimension:\",array.ndim)\n",
    "print(\"shape of array:\",array.shape)\n",
    "print(\"type of element:\",array.dtype)\n",
    "print(\"Total no of elements:\",array.size)"
   ]
  },
  {
   "cell_type": "code",
   "execution_count": 7,
   "id": "3842210e",
   "metadata": {},
   "outputs": [
    {
     "name": "stdout",
     "output_type": "stream",
     "text": [
      "\n",
      " Convert array:\n",
      " [[1. 2. 3. 4.]\n",
      " [5. 6. 7. 8.]\n",
      " [1. 2. 0. 1.]]\n",
      "\n",
      " Convert array type:\n",
      " float32\n"
     ]
    }
   ],
   "source": [
    "newtype=array.astype('f')\n",
    "print(\"\\n Convert array:\\n\",newtype)\n",
    "print(\"\\n Convert array type:\\n\",newtype.dtype)"
   ]
  },
  {
   "cell_type": "code",
   "execution_count": 8,
   "id": "541087b3",
   "metadata": {},
   "outputs": [
    {
     "name": "stdout",
     "output_type": "stream",
     "text": [
      "\n",
      " size of the array:\n",
      " 3\n"
     ]
    }
   ],
   "source": [
    "size=len(array)\n",
    "print(\"\\n size of the array:\\n\",size)"
   ]
  },
  {
   "cell_type": "code",
   "execution_count": null,
   "id": "07f1ebe7",
   "metadata": {},
   "outputs": [],
   "source": []
  }
 ],
 "metadata": {
  "kernelspec": {
   "display_name": "Python 3 (ipykernel)",
   "language": "python",
   "name": "python3"
  },
  "language_info": {
   "codemirror_mode": {
    "name": "ipython",
    "version": 3
   },
   "file_extension": ".py",
   "mimetype": "text/x-python",
   "name": "python",
   "nbconvert_exporter": "python",
   "pygments_lexer": "ipython3",
   "version": "3.11.5"
  }
 },
 "nbformat": 4,
 "nbformat_minor": 5
}
