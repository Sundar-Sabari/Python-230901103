{
 "cells": [
  {
   "cell_type": "code",
   "execution_count": 1,
   "id": "302ed608",
   "metadata": {},
   "outputs": [
    {
     "name": "stdout",
     "output_type": "stream",
     "text": [
      "[10 20 30 40 50]\n",
      "[6 7 9 7 1]\n",
      "[16 27 39 47 51]\n",
      "[ 4 13 21 33 49]\n",
      "[ 60 140 270 280  50]\n",
      "[ 1.66666667  2.85714286  3.33333333  5.71428571 50.        ]\n"
     ]
    }
   ],
   "source": [
    "import numpy as np\n",
    "arr1=[10,20,30,40,50]\n",
    "arr2=[6,7,9,7,1]\n",
    "a=np.array(arr1)\n",
    "b=np.array(arr2)\n",
    "print(a)\n",
    "print(b)\n",
    "print(a+b)\n",
    "print(a-b)\n",
    "print(a*b)\n",
    "print(a/b)"
   ]
  },
  {
   "cell_type": "code",
   "execution_count": 2,
   "id": "098dc902",
   "metadata": {},
   "outputs": [
    {
     "name": "stdout",
     "output_type": "stream",
     "text": [
      "800\n",
      "Scalar Value: 3\n",
      "Array: [10 20 30 40 50]\n",
      "Result: [ 30  60  90 120 150]\n"
     ]
    }
   ],
   "source": [
    "print(a.dot(b))\n",
    "sclr=3\n",
    "print(\"Scalar Value:\",sclr)\n",
    "print(\"Array:\",a)\n",
    "print(\"Result:\",a*sclr)"
   ]
  },
  {
   "cell_type": "code",
   "execution_count": 3,
   "id": "af0136b1",
   "metadata": {},
   "outputs": [
    {
     "name": "stdout",
     "output_type": "stream",
     "text": [
      "[[1 0]\n",
      " [0 4]]\n"
     ]
    }
   ],
   "source": [
    "import numpy as np\n",
    "a=np.array([[10,20],[30,40]])\n",
    "b=np.array([[3,4],[5,9]])\n",
    "print(a%b)"
   ]
  },
  {
   "cell_type": "code",
   "execution_count": 10,
   "id": "3ea5b122",
   "metadata": {},
   "outputs": [],
   "source": [
    "def my_function(x,y):\n",
    "    if x>y:\n",
    "        return x-y\n",
    "    else:\n",
    "        return x+y\n",
    "    arr1=[10,20,30,40]\n",
    "    arr2=[2,10,35,25]\n",
    "    vect_func=np.vectorize(my_func)\n",
    "    print(\"Array1:\",arr1)\n",
    "    print(\"Array2:\",arr2)\n",
    "    print(\"Result:\",vect_func(arr1,arr2))\n"
   ]
  },
  {
   "cell_type": "code",
   "execution_count": 14,
   "id": "f439cb8b",
   "metadata": {},
   "outputs": [
    {
     "name": "stdout",
     "output_type": "stream",
     "text": [
      "Array1: [10, 20, 30, 40]\n",
      "Array2: [2, 10, 35, 25]\n",
      "Result: [ 8 10 65 15]\n"
     ]
    }
   ],
   "source": [
    "def my_func(x,y):\n",
    "    if x>y:\n",
    "        return x-y\n",
    "    else:\n",
    "        return x+y\n",
    "arr1=[10,20,30,40]\n",
    "arr2=[2,10,35,25]\n",
    "vect_func=np.vectorize(my_func)\n",
    "print(\"Array1:\",arr1)\n",
    "print(\"Array2:\",arr2)\n",
    "print(\"Result:\",vect_func(arr1,arr2))"
   ]
  },
  {
   "cell_type": "code",
   "execution_count": null,
   "id": "2920f804",
   "metadata": {},
   "outputs": [],
   "source": []
  },
  {
   "cell_type": "code",
   "execution_count": null,
   "id": "65de92b3",
   "metadata": {},
   "outputs": [],
   "source": []
  }
 ],
 "metadata": {
  "kernelspec": {
   "display_name": "Python 3 (ipykernel)",
   "language": "python",
   "name": "python3"
  },
  "language_info": {
   "codemirror_mode": {
    "name": "ipython",
    "version": 3
   },
   "file_extension": ".py",
   "mimetype": "text/x-python",
   "name": "python",
   "nbconvert_exporter": "python",
   "pygments_lexer": "ipython3",
   "version": "3.11.5"
  }
 },
 "nbformat": 4,
 "nbformat_minor": 5
}
